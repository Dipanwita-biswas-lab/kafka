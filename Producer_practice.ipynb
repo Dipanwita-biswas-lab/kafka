{
 "cells": [
  {
   "cell_type": "markdown",
   "metadata": {},
   "source": [
    "- start the zookeper server\n",
    "    cd Downloads\\\n",
    "\n",
    "- enter kafka folder\n",
    "    cd kafka_2.12-2.3.0/\n",
    "\n",
    "- start zookeper server-2181\n",
    "    bin/zookeper-server-start.sh config\\zookepr-properties\n",
    "\n",
    "- start kafka server -9092\n",
    "    bin/kafka-server-start.sh config\\server.properties\n",
    "\n",
    "- create kafka topic\n",
    "    bin\\kafka-topic.sh --create \n",
    "    --bootstrap-server localhost:9092 \n",
    "    --replication-factor 1\n",
    "    --partitions 1\n",
    "    --topic text\n",
    "\n",
    "- delete kafka topic\n",
    "    bin\\kafka-topic.sh --delete \n",
    "    --bootstrap-server localhost:9092 \n",
    "    --topic text\n",
    "\n",
    "- list kafka server\n",
    "    bin\\kafka-topic.sh \n",
    "    --list\n",
    "    --bootstrap localhost:9092 \n",
    "\n",
    "- start kafka producer\n",
    "    bin\\kafka-console-producer.sh \n",
    "    --broker-list localhost:9092 \n",
    "    --topic text\n",
    "\n",
    "- start kafka consumer\n",
    "    bin\\kafka-console-consumer.sh \n",
    "    --bootstrap localhost:9092 \n",
    "    --topic text\n",
    "    --from-beginning\n"
   ]
  },
  {
   "cell_type": "code",
   "execution_count": 11,
   "metadata": {},
   "outputs": [
    {
     "name": "stdout",
     "output_type": "stream",
     "text": [
      "Requirement already satisfied: kafka-python in /opt/anaconda3/lib/python3.9/site-packages (2.0.2)\n"
     ]
    }
   ],
   "source": [
    "# if kafka not installed \n",
    "! pip install kafka-python"
   ]
  },
  {
   "cell_type": "code",
   "execution_count": 4,
   "metadata": {},
   "outputs": [
    {
     "name": "stdout",
     "output_type": "stream",
     "text": [
      "['/Users/dipanwitabiswas/Desktop/Data-Engineering/Kafka', '/Users/dipanwitabiswas/.vscode/extensions/ms-toolsai.jupyter-2022.9.1303220346/pythonFiles', '/Users/dipanwitabiswas/.vscode/extensions/ms-toolsai.jupyter-2022.9.1303220346/pythonFiles/lib/python', '/opt/homebrew/Cellar/python@3.10/3.10.9/Frameworks/Python.framework/Versions/3.10/lib/python310.zip', '/opt/homebrew/Cellar/python@3.10/3.10.9/Frameworks/Python.framework/Versions/3.10/lib/python3.10', '/opt/homebrew/Cellar/python@3.10/3.10.9/Frameworks/Python.framework/Versions/3.10/lib/python3.10/lib-dynload', '', '/Users/dipanwitabiswas/Library/Python/3.10/lib/python/site-packages', '/opt/homebrew/lib/python3.10/site-packages']\n"
     ]
    }
   ],
   "source": [
    "# check the path where python searches for package\n",
    "import sys\n",
    "print(sys.path)\n",
    "\n",
    "# add to path\n",
    "sys.path.append('/opt/anaconda3/lib/python3.9/site-packages')\n"
   ]
  },
  {
   "cell_type": "code",
   "execution_count": 6,
   "metadata": {},
   "outputs": [],
   "source": [
    "from kafka import KafkaProducer\n"
   ]
  },
  {
   "cell_type": "code",
   "execution_count": 7,
   "metadata": {},
   "outputs": [],
   "source": [
    "bootstrapserver=['localhost:9092']\n",
    "topicname='test'\n",
    "\n",
    "producer= KafkaProducer(bootstrap_servers=bootstrapserver)\n"
   ]
  },
  {
   "cell_type": "code",
   "execution_count": 8,
   "metadata": {},
   "outputs": [
    {
     "name": "stdout",
     "output_type": "stream",
     "text": [
      "<kafka.producer.future.FutureRecordMetadata object at 0x1085d1570>\n",
      "test\n"
     ]
    }
   ],
   "source": [
    "# without keyand value \n",
    "ack=producer.send(topicname, b'Sendingdata')\n",
    "metadata=ack.get()\n",
    "print(ack)\n",
    "print(metadata.topic)"
   ]
  },
  {
   "cell_type": "code",
   "execution_count": 9,
   "metadata": {},
   "outputs": [
    {
     "name": "stdout",
     "output_type": "stream",
     "text": [
      "<kafka.producer.future.FutureRecordMetadata object at 0x1085e4700>\n",
      "test\n",
      "0\n"
     ]
    }
   ],
   "source": [
    "# with keyand value \n",
    "ack=producer.send(topicname, key=b'hello', value=b'Sending Hello')\n",
    "metadata=ack.get()\n",
    "print(ack)\n",
    "print(metadata.topic)\n",
    "print(metadata.partition)"
   ]
  },
  {
   "cell_type": "code",
   "execution_count": 10,
   "metadata": {},
   "outputs": [
    {
     "name": "stdout",
     "output_type": "stream",
     "text": [
      "<kafka.producer.future.FutureRecordMetadata object at 0x1085e45e0>\n",
      "test\n",
      "1\n"
     ]
    }
   ],
   "source": [
    "# with keyand value \n",
    "ack=producer.send(topicname, key=b'rimi', value=b'Sending rimi')\n",
    "metadata=ack.get()\n",
    "print(ack)\n",
    "print(metadata.topic)\n",
    "print(metadata.partition)"
   ]
  },
  {
   "cell_type": "code",
   "execution_count": 11,
   "metadata": {},
   "outputs": [
    {
     "name": "stdout",
     "output_type": "stream",
     "text": [
      "<kafka.producer.future.FutureRecordMetadata object at 0x1085e46a0>\n",
      "test\n",
      "0\n"
     ]
    }
   ],
   "source": [
    "# with keyand value \n",
    "ack=producer.send(topicname, key=b'swa', value=b'Sending swa')\n",
    "metadata=ack.get()\n",
    "print(ack)\n",
    "print(metadata.topic)\n",
    "print(metadata.partition)"
   ]
  },
  {
   "cell_type": "code",
   "execution_count": null,
   "metadata": {},
   "outputs": [],
   "source": []
  }
 ],
 "metadata": {
  "kernelspec": {
   "display_name": "Python 3 (ipykernel)",
   "language": "python",
   "name": "python3"
  },
  "language_info": {
   "codemirror_mode": {
    "name": "ipython",
    "version": 3
   },
   "file_extension": ".py",
   "mimetype": "text/x-python",
   "name": "python",
   "nbconvert_exporter": "python",
   "pygments_lexer": "ipython3",
   "version": "3.10.9"
  },
  "vscode": {
   "interpreter": {
    "hash": "b0fa6594d8f4cbf19f97940f81e996739fb7646882a419484c72d19e05852a7e"
   }
  }
 },
 "nbformat": 4,
 "nbformat_minor": 2
}
