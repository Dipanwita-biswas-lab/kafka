{
 "cells": [
  {
   "cell_type": "code",
   "execution_count": 1,
   "metadata": {},
   "outputs": [
    {
     "name": "stdout",
     "output_type": "stream",
     "text": [
      "['/Users/dipanwitabiswas/Desktop/Data-Engineering/Kafka', '/Users/dipanwitabiswas/.vscode/extensions/ms-toolsai.jupyter-2022.9.1303220346/pythonFiles', '/Users/dipanwitabiswas/.vscode/extensions/ms-toolsai.jupyter-2022.9.1303220346/pythonFiles/lib/python', '/opt/homebrew/Cellar/python@3.11/3.11.0/Frameworks/Python.framework/Versions/3.11/lib/python311.zip', '/opt/homebrew/Cellar/python@3.11/3.11.0/Frameworks/Python.framework/Versions/3.11/lib/python3.11', '/opt/homebrew/Cellar/python@3.11/3.11.0/Frameworks/Python.framework/Versions/3.11/lib/python3.11/lib-dynload', '', '/Users/dipanwitabiswas/Library/Python/3.11/lib/python/site-packages', '/opt/homebrew/lib/python3.11/site-packages']\n"
     ]
    }
   ],
   "source": [
    "# check the path where python searches for package\n",
    "import sys\n",
    "print(sys.path)\n",
    "\n",
    "# add to path\n",
    "sys.path.append('/opt/anaconda3/lib/python3.9/site-packages')\n"
   ]
  },
  {
   "cell_type": "code",
   "execution_count": 2,
   "metadata": {},
   "outputs": [],
   "source": [
    "from kafka import KafkaConsumer, KafkaProducer\n",
    "import json"
   ]
  },
  {
   "cell_type": "markdown",
   "metadata": {},
   "source": [
    "Write a Kafka consumer that will read data from multiple topics:\n",
    "\n",
    "- The name of the topics is \"SalesRecords\" and \"thresholdcosts\"\n",
    "\n",
    "- They should also read data from the beginning of the topic\n",
    "\n",
    "- Filter the data based on the country and send data to different topic depending on country value “test.topic.{country}\". \n",
    "- For each country, a new topic needs to be created and data needs to be sent to the corresponding topics. \n",
    "- So, if there is some data for the country Cuba, then a topic named test.topic.cuba should be created and the data should be sent to this topic. \n",
    "- Similarly for other countries. You need not create separate topics for each country using the command line.  Think of some logic to implement it using python code only.\n",
    "\n",
    "When you list all the topics, you will see that the topics are created for each country"
   ]
  },
  {
   "cell_type": "code",
   "execution_count": 11,
   "metadata": {},
   "outputs": [],
   "source": [
    "bootstrap=['localhost:9092']\n",
    "sourcetopic= [\"SalesRecords\", \"thresholdcosts\"]\n",
    "destinationtopic='test.topic.{country}'"
   ]
  },
  {
   "cell_type": "code",
   "execution_count": 12,
   "metadata": {},
   "outputs": [],
   "source": [
    "\n",
    "consumer=KafkaConsumer(*sourcetopic,\\\n",
    "    bootstrap_servers=bootstrap, \\\n",
    "    group_id='c2',\n",
    "    auto_offset_reset='earliest')\n"
   ]
  },
  {
   "cell_type": "code",
   "execution_count": 13,
   "metadata": {},
   "outputs": [],
   "source": [
    "producer=KafkaProducer(bootstrap_servers=bootstrap)"
   ]
  },
  {
   "cell_type": "code",
   "execution_count": 19,
   "metadata": {},
   "outputs": [
    {
     "name": "stdout",
     "output_type": "stream",
     "text": [
      "0\n",
      "0\n",
      "0\n",
      "0\n"
     ]
    },
    {
     "ename": "KeyboardInterrupt",
     "evalue": "",
     "output_type": "error",
     "traceback": [
      "\u001b[0;31m---------------------------------------------------------------------------\u001b[0m",
      "\u001b[0;31mKeyboardInterrupt\u001b[0m                         Traceback (most recent call last)",
      "Cell \u001b[0;32mIn[19], line 6\u001b[0m\n\u001b[1;32m      4\u001b[0m \u001b[39m# countryname\u001b[39;00m\n\u001b[1;32m      5\u001b[0m country\u001b[39m=\u001b[39m(data[\u001b[39m'\u001b[39m\u001b[39mCountry\u001b[39m\u001b[39m'\u001b[39m])\u001b[39m.\u001b[39mreplace(\u001b[39m'\u001b[39m\u001b[39m \u001b[39m\u001b[39m'\u001b[39m,\u001b[39m'\u001b[39m\u001b[39m'\u001b[39m)\n\u001b[0;32m----> 6\u001b[0m ack\u001b[39m=\u001b[39m producer\u001b[39m.\u001b[39;49msend(destinationtopic\u001b[39m.\u001b[39;49mformat(country\u001b[39m=\u001b[39;49mcountry), message\u001b[39m.\u001b[39;49mvalue)\n\u001b[1;32m      7\u001b[0m \u001b[39mprint\u001b[39m(ack\u001b[39m.\u001b[39mget()\u001b[39m.\u001b[39moffset)\n",
      "File \u001b[0;32m/opt/anaconda3/lib/python3.9/site-packages/kafka/producer/kafka.py:576\u001b[0m, in \u001b[0;36mKafkaProducer.send\u001b[0;34m(self, topic, value, key, headers, partition, timestamp_ms)\u001b[0m\n\u001b[1;32m    574\u001b[0m key_bytes \u001b[39m=\u001b[39m value_bytes \u001b[39m=\u001b[39m \u001b[39mNone\u001b[39;00m\n\u001b[1;32m    575\u001b[0m \u001b[39mtry\u001b[39;00m:\n\u001b[0;32m--> 576\u001b[0m     \u001b[39mself\u001b[39;49m\u001b[39m.\u001b[39;49m_wait_on_metadata(topic, \u001b[39mself\u001b[39;49m\u001b[39m.\u001b[39;49mconfig[\u001b[39m'\u001b[39;49m\u001b[39mmax_block_ms\u001b[39;49m\u001b[39m'\u001b[39;49m] \u001b[39m/\u001b[39;49m \u001b[39m1000.0\u001b[39;49m)\n\u001b[1;32m    578\u001b[0m     key_bytes \u001b[39m=\u001b[39m \u001b[39mself\u001b[39m\u001b[39m.\u001b[39m_serialize(\n\u001b[1;32m    579\u001b[0m         \u001b[39mself\u001b[39m\u001b[39m.\u001b[39mconfig[\u001b[39m'\u001b[39m\u001b[39mkey_serializer\u001b[39m\u001b[39m'\u001b[39m],\n\u001b[1;32m    580\u001b[0m         topic, key)\n\u001b[1;32m    581\u001b[0m     value_bytes \u001b[39m=\u001b[39m \u001b[39mself\u001b[39m\u001b[39m.\u001b[39m_serialize(\n\u001b[1;32m    582\u001b[0m         \u001b[39mself\u001b[39m\u001b[39m.\u001b[39mconfig[\u001b[39m'\u001b[39m\u001b[39mvalue_serializer\u001b[39m\u001b[39m'\u001b[39m],\n\u001b[1;32m    583\u001b[0m         topic, value)\n",
      "File \u001b[0;32m/opt/anaconda3/lib/python3.9/site-packages/kafka/producer/kafka.py:699\u001b[0m, in \u001b[0;36mKafkaProducer._wait_on_metadata\u001b[0;34m(self, topic, max_wait)\u001b[0m\n\u001b[1;32m    697\u001b[0m future\u001b[39m.\u001b[39madd_both(\u001b[39mlambda\u001b[39;00m e, \u001b[39m*\u001b[39margs: e\u001b[39m.\u001b[39mset(), metadata_event)\n\u001b[1;32m    698\u001b[0m \u001b[39mself\u001b[39m\u001b[39m.\u001b[39m_sender\u001b[39m.\u001b[39mwakeup()\n\u001b[0;32m--> 699\u001b[0m metadata_event\u001b[39m.\u001b[39;49mwait(max_wait \u001b[39m-\u001b[39;49m elapsed)\n\u001b[1;32m    700\u001b[0m elapsed \u001b[39m=\u001b[39m time\u001b[39m.\u001b[39mtime() \u001b[39m-\u001b[39m begin\n\u001b[1;32m    701\u001b[0m \u001b[39mif\u001b[39;00m \u001b[39mnot\u001b[39;00m metadata_event\u001b[39m.\u001b[39mis_set():\n",
      "File \u001b[0;32m/opt/homebrew/Cellar/python@3.11/3.11.0/Frameworks/Python.framework/Versions/3.11/lib/python3.11/threading.py:622\u001b[0m, in \u001b[0;36mEvent.wait\u001b[0;34m(self, timeout)\u001b[0m\n\u001b[1;32m    620\u001b[0m signaled \u001b[39m=\u001b[39m \u001b[39mself\u001b[39m\u001b[39m.\u001b[39m_flag\n\u001b[1;32m    621\u001b[0m \u001b[39mif\u001b[39;00m \u001b[39mnot\u001b[39;00m signaled:\n\u001b[0;32m--> 622\u001b[0m     signaled \u001b[39m=\u001b[39m \u001b[39mself\u001b[39;49m\u001b[39m.\u001b[39;49m_cond\u001b[39m.\u001b[39;49mwait(timeout)\n\u001b[1;32m    623\u001b[0m \u001b[39mreturn\u001b[39;00m signaled\n",
      "File \u001b[0;32m/opt/homebrew/Cellar/python@3.11/3.11.0/Frameworks/Python.framework/Versions/3.11/lib/python3.11/threading.py:324\u001b[0m, in \u001b[0;36mCondition.wait\u001b[0;34m(self, timeout)\u001b[0m\n\u001b[1;32m    322\u001b[0m \u001b[39melse\u001b[39;00m:\n\u001b[1;32m    323\u001b[0m     \u001b[39mif\u001b[39;00m timeout \u001b[39m>\u001b[39m \u001b[39m0\u001b[39m:\n\u001b[0;32m--> 324\u001b[0m         gotit \u001b[39m=\u001b[39m waiter\u001b[39m.\u001b[39;49macquire(\u001b[39mTrue\u001b[39;49;00m, timeout)\n\u001b[1;32m    325\u001b[0m     \u001b[39melse\u001b[39;00m:\n\u001b[1;32m    326\u001b[0m         gotit \u001b[39m=\u001b[39m waiter\u001b[39m.\u001b[39macquire(\u001b[39mFalse\u001b[39;00m)\n",
      "\u001b[0;31mKeyboardInterrupt\u001b[0m: "
     ]
    }
   ],
   "source": [
    "for message in consumer:\n",
    "    line=message.value\n",
    "    data= json.loads(line)\n",
    "    # countryname\n",
    "    country=(data['Country']).replace(' ','')\n",
    "    ack= producer.send(destinationtopic.format(country=country), message.value)\n",
    "    print(ack.get().offset)\n",
    "    "
   ]
  },
  {
   "cell_type": "code",
   "execution_count": 20,
   "metadata": {},
   "outputs": [
    {
     "ename": "SyntaxError",
     "evalue": "invalid syntax (3888463292.py, line 3)",
     "output_type": "error",
     "traceback": [
      "\u001b[0;36m  Cell \u001b[0;32mIn[20], line 3\u001b[0;36m\u001b[0m\n\u001b[0;31m    bin/kafka-topics.sh --bootstrap-server localhost:9092 --list\u001b[0m\n\u001b[0m                                           ^\u001b[0m\n\u001b[0;31mSyntaxError\u001b[0m\u001b[0;31m:\u001b[0m invalid syntax\n"
     ]
    }
   ],
   "source": [
    "# get list of the topics thus created\n",
    "\n",
    "bin/kafka-topics.sh --bootstrap-server localhost:9092 --list"
   ]
  },
  {
   "cell_type": "code",
   "execution_count": null,
   "metadata": {},
   "outputs": [],
   "source": []
  }
 ],
 "metadata": {
  "kernelspec": {
   "display_name": "Python 3.11.0 64-bit",
   "language": "python",
   "name": "python3"
  },
  "language_info": {
   "codemirror_mode": {
    "name": "ipython",
    "version": 3
   },
   "file_extension": ".py",
   "mimetype": "text/x-python",
   "name": "python",
   "nbconvert_exporter": "python",
   "pygments_lexer": "ipython3",
   "version": "3.11.0"
  },
  "orig_nbformat": 4,
  "vscode": {
   "interpreter": {
    "hash": "5c7b89af1651d0b8571dde13640ecdccf7d5a6204171d6ab33e7c296e100e08a"
   }
  }
 },
 "nbformat": 4,
 "nbformat_minor": 2
}
